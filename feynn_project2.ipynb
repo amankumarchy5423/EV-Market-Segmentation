{
  "cells": [
    {
      "cell_type": "code",
      "execution_count": 1,
      "metadata": {
        "colab": {
          "base_uri": "https://localhost:8080/"
        },
        "id": "4owxWDrPOl0r",
        "outputId": "c8b0bdf8-e95b-4dcd-d1b1-99291eaa801b"
      },
      "outputs": [
        {
          "name": "stdout",
          "output_type": "stream",
          "text": [
            "hello world \n"
          ]
        }
      ],
      "source": [
        "print(\"hello world \")"
      ]
    },
    {
      "cell_type": "code",
      "execution_count": 2,
      "metadata": {
        "id": "oH-B3BQSUDgl"
      },
      "outputs": [],
      "source": [
        "import pandas as pd\n",
        "import numpy as np\n",
        "import matplotlib.pyplot as plt\n",
        "import seaborn as sns"
      ]
    },
    {
      "cell_type": "code",
      "execution_count": 3,
      "metadata": {
        "id": "3oy7UGlPUhm-"
      },
      "outputs": [],
      "source": [
        "df = pd.read_csv(\"DataSets/EVIndia.csv\")"
      ]
    },
    {
      "cell_type": "code",
      "execution_count": 4,
      "metadata": {
        "colab": {
          "base_uri": "https://localhost:8080/",
          "height": 399
        },
        "id": "jQDzH-1GUhjp",
        "outputId": "322d0bbc-b7c0-4ea5-a7d9-3e85f4f2e7a5"
      },
      "outputs": [
        {
          "data": {
            "text/html": [
              "<div>\n",
              "<style scoped>\n",
              "    .dataframe tbody tr th:only-of-type {\n",
              "        vertical-align: middle;\n",
              "    }\n",
              "\n",
              "    .dataframe tbody tr th {\n",
              "        vertical-align: top;\n",
              "    }\n",
              "\n",
              "    .dataframe thead th {\n",
              "        text-align: right;\n",
              "    }\n",
              "</style>\n",
              "<table border=\"1\" class=\"dataframe\">\n",
              "  <thead>\n",
              "    <tr style=\"text-align: right;\">\n",
              "      <th></th>\n",
              "      <th>Car</th>\n",
              "      <th>Style</th>\n",
              "      <th>Range</th>\n",
              "      <th>Transmission</th>\n",
              "      <th>VehicleType</th>\n",
              "      <th>PriceRange</th>\n",
              "      <th>Capacity</th>\n",
              "      <th>BootSpace</th>\n",
              "      <th>BaseModel</th>\n",
              "      <th>TopModel</th>\n",
              "    </tr>\n",
              "  </thead>\n",
              "  <tbody>\n",
              "    <tr>\n",
              "      <th>0</th>\n",
              "      <td>Tata Nexon EV</td>\n",
              "      <td>Compact SUV</td>\n",
              "      <td>312 Km/Full Charge</td>\n",
              "      <td>Automatic</td>\n",
              "      <td>Electric</td>\n",
              "      <td>₹ 13.99 - 17.4 L</td>\n",
              "      <td>5 Seater</td>\n",
              "      <td>350 L</td>\n",
              "      <td>XM</td>\n",
              "      <td>Dark XZ Plus LUX</td>\n",
              "    </tr>\n",
              "    <tr>\n",
              "      <th>1</th>\n",
              "      <td>Tata Tigor EV</td>\n",
              "      <td>Subcompact Sedan</td>\n",
              "      <td>306 Km/Full Charge</td>\n",
              "      <td>Automatic</td>\n",
              "      <td>Electric</td>\n",
              "      <td>₹ 12.49 - 13.64 L</td>\n",
              "      <td>5 Seater</td>\n",
              "      <td>316 L</td>\n",
              "      <td>XE</td>\n",
              "      <td>XZ Plus Dual Tone</td>\n",
              "    </tr>\n",
              "    <tr>\n",
              "      <th>2</th>\n",
              "      <td>Tata Nexon EV Max</td>\n",
              "      <td>Compact SUV</td>\n",
              "      <td>437 Km/Full Charge</td>\n",
              "      <td>Automatic</td>\n",
              "      <td>Electric</td>\n",
              "      <td>₹ 17.74 - 19.24 L</td>\n",
              "      <td>5 Seater</td>\n",
              "      <td>350 L</td>\n",
              "      <td>XZ Plus 3.3 kW</td>\n",
              "      <td>XZ Plus Lux 7.2 kW</td>\n",
              "    </tr>\n",
              "    <tr>\n",
              "      <th>3</th>\n",
              "      <td>MG ZS EV</td>\n",
              "      <td>Compact SUV</td>\n",
              "      <td>419 Km/Full Charge</td>\n",
              "      <td>Automatic</td>\n",
              "      <td>Electric</td>\n",
              "      <td>₹ 21.99 - 25.88 L</td>\n",
              "      <td>5 Seater</td>\n",
              "      <td>448 L</td>\n",
              "      <td>Excite</td>\n",
              "      <td>Exclusive</td>\n",
              "    </tr>\n",
              "    <tr>\n",
              "      <th>4</th>\n",
              "      <td>Hyundai Kona Electric</td>\n",
              "      <td>Compact SUV</td>\n",
              "      <td>452 Km/Full Charge</td>\n",
              "      <td>Automatic</td>\n",
              "      <td>Electric</td>\n",
              "      <td>₹ 23.79 - 23.98 L</td>\n",
              "      <td>5 Seater</td>\n",
              "      <td>na</td>\n",
              "      <td>Premium Dual Tone</td>\n",
              "      <td>HSE</td>\n",
              "    </tr>\n",
              "  </tbody>\n",
              "</table>\n",
              "</div>"
            ],
            "text/plain": [
              "                     Car             Style               Range Transmission  \\\n",
              "0          Tata Nexon EV       Compact SUV  312 Km/Full Charge    Automatic   \n",
              "1          Tata Tigor EV  Subcompact Sedan  306 Km/Full Charge    Automatic   \n",
              "2      Tata Nexon EV Max       Compact SUV  437 Km/Full Charge    Automatic   \n",
              "3               MG ZS EV       Compact SUV  419 Km/Full Charge    Automatic   \n",
              "4  Hyundai Kona Electric       Compact SUV  452 Km/Full Charge    Automatic   \n",
              "\n",
              "  VehicleType         PriceRange   Capacity BootSpace           BaseModel  \\\n",
              "0    Electric   ₹ 13.99 - 17.4 L  5 Seater      350 L                 XM    \n",
              "1    Electric  ₹ 12.49 - 13.64 L  5 Seater      316 L                 XE    \n",
              "2    Electric  ₹ 17.74 - 19.24 L  5 Seater      350 L     XZ Plus 3.3 kW    \n",
              "3    Electric  ₹ 21.99 - 25.88 L  5 Seater      448 L             Excite    \n",
              "4    Electric  ₹ 23.79 - 23.98 L  5 Seater         na  Premium Dual Tone    \n",
              "\n",
              "              TopModel  \n",
              "0    Dark XZ Plus LUX   \n",
              "1   XZ Plus Dual Tone   \n",
              "2  XZ Plus Lux 7.2 kW   \n",
              "3           Exclusive   \n",
              "4                 HSE   "
            ]
          },
          "execution_count": 4,
          "metadata": {},
          "output_type": "execute_result"
        }
      ],
      "source": [
        "df.head()"
      ]
    },
    {
      "cell_type": "code",
      "execution_count": 5,
      "metadata": {
        "colab": {
          "base_uri": "https://localhost:8080/"
        },
        "id": "xNbYEwmmVsg7",
        "outputId": "c756a720-c471-42dd-908b-52f4fc468e0e"
      },
      "outputs": [
        {
          "data": {
            "text/plain": [
              "array(['Compact SUV', 'Subcompact Sedan', 'Premium Midsize Sedan',\n",
              "       'Premium Coupe', 'Subcompact MPV', 'Premium Fullsize SUV',\n",
              "       'Premium Sports Sedan'], dtype=object)"
            ]
          },
          "execution_count": 5,
          "metadata": {},
          "output_type": "execute_result"
        }
      ],
      "source": [
        "df['Style'].unique()"
      ]
    },
    {
      "cell_type": "code",
      "execution_count": 11,
      "metadata": {
        "colab": {
          "base_uri": "https://localhost:8080/"
        },
        "id": "ZGCVhZ8MUhgt",
        "outputId": "34976dfa-76c2-43c7-9057-3c73516de71c"
      },
      "outputs": [
        {
          "name": "stdout",
          "output_type": "stream",
          "text": [
            "Collecting openpyxl\n",
            "  Using cached openpyxl-3.1.5-py2.py3-none-any.whl.metadata (2.5 kB)\n",
            "Collecting et-xmlfile (from openpyxl)\n",
            "  Using cached et_xmlfile-2.0.0-py3-none-any.whl.metadata (2.7 kB)\n",
            "Using cached openpyxl-3.1.5-py2.py3-none-any.whl (250 kB)\n",
            "Using cached et_xmlfile-2.0.0-py3-none-any.whl (18 kB)\n",
            "Installing collected packages: et-xmlfile, openpyxl\n",
            "Successfully installed et-xmlfile-2.0.0 openpyxl-3.1.5\n"
          ]
        },
        {
          "name": "stderr",
          "output_type": "stream",
          "text": [
            "\n",
            "[notice] A new release of pip is available: 24.2 -> 25.1.1\n",
            "[notice] To update, run: C:\\Users\\HP\\AppData\\Local\\Microsoft\\WindowsApps\\PythonSoftwareFoundation.Python.3.11_qbz5n2kfra8p0\\python.exe -m pip install --upgrade pip\n"
          ]
        },
        {
          "data": {
            "text/plain": [
              "(74, 6)"
            ]
          },
          "execution_count": 11,
          "metadata": {},
          "output_type": "execute_result"
        }
      ],
      "source": [
        "! pip install openpyxl\n",
        "df1 = pd.read_excel(\"DataSets\\Ev_Sales.xlsx\")\n",
        "df1.shape"
      ]
    },
    {
      "cell_type": "code",
      "execution_count": 12,
      "metadata": {
        "colab": {
          "base_uri": "https://localhost:8080/",
          "height": 206
        },
        "id": "EOJMlxTGUhdq",
        "outputId": "627c351c-0ab9-456f-8e41-4fd0a0c5bc7a"
      },
      "outputs": [
        {
          "data": {
            "text/html": [
              "<div>\n",
              "<style scoped>\n",
              "    .dataframe tbody tr th:only-of-type {\n",
              "        vertical-align: middle;\n",
              "    }\n",
              "\n",
              "    .dataframe tbody tr th {\n",
              "        vertical-align: top;\n",
              "    }\n",
              "\n",
              "    .dataframe thead th {\n",
              "        text-align: right;\n",
              "    }\n",
              "</style>\n",
              "<table border=\"1\" class=\"dataframe\">\n",
              "  <thead>\n",
              "    <tr style=\"text-align: right;\">\n",
              "      <th></th>\n",
              "      <th>YEAR</th>\n",
              "      <th>2 W</th>\n",
              "      <th>3 W</th>\n",
              "      <th>4 W</th>\n",
              "      <th>BUS</th>\n",
              "      <th>TOTAL</th>\n",
              "    </tr>\n",
              "  </thead>\n",
              "  <tbody>\n",
              "    <tr>\n",
              "      <th>0</th>\n",
              "      <td>2017-04-01</td>\n",
              "      <td>96</td>\n",
              "      <td>4748</td>\n",
              "      <td>198</td>\n",
              "      <td>0</td>\n",
              "      <td>5042</td>\n",
              "    </tr>\n",
              "    <tr>\n",
              "      <th>1</th>\n",
              "      <td>2017-05-01</td>\n",
              "      <td>91</td>\n",
              "      <td>6720</td>\n",
              "      <td>215</td>\n",
              "      <td>2</td>\n",
              "      <td>7028</td>\n",
              "    </tr>\n",
              "    <tr>\n",
              "      <th>2</th>\n",
              "      <td>2017-06-01</td>\n",
              "      <td>137</td>\n",
              "      <td>7178</td>\n",
              "      <td>149</td>\n",
              "      <td>1</td>\n",
              "      <td>7465</td>\n",
              "    </tr>\n",
              "    <tr>\n",
              "      <th>3</th>\n",
              "      <td>2017-07-01</td>\n",
              "      <td>116</td>\n",
              "      <td>8775</td>\n",
              "      <td>120</td>\n",
              "      <td>0</td>\n",
              "      <td>9011</td>\n",
              "    </tr>\n",
              "    <tr>\n",
              "      <th>4</th>\n",
              "      <td>2017-08-01</td>\n",
              "      <td>99</td>\n",
              "      <td>8905</td>\n",
              "      <td>137</td>\n",
              "      <td>0</td>\n",
              "      <td>9141</td>\n",
              "    </tr>\n",
              "  </tbody>\n",
              "</table>\n",
              "</div>"
            ],
            "text/plain": [
              "        YEAR  2 W   3 W  4 W  BUS  TOTAL\n",
              "0 2017-04-01   96  4748  198    0   5042\n",
              "1 2017-05-01   91  6720  215    2   7028\n",
              "2 2017-06-01  137  7178  149    1   7465\n",
              "3 2017-07-01  116  8775  120    0   9011\n",
              "4 2017-08-01   99  8905  137    0   9141"
            ]
          },
          "execution_count": 12,
          "metadata": {},
          "output_type": "execute_result"
        }
      ],
      "source": [
        "df1.head()"
      ]
    },
    {
      "cell_type": "code",
      "execution_count": 13,
      "metadata": {
        "colab": {
          "base_uri": "https://localhost:8080/"
        },
        "id": "NnXpKpfVeE7s",
        "outputId": "b6121510-b347-41d4-96f2-f8c8e9bf0725"
      },
      "outputs": [
        {
          "data": {
            "text/plain": [
              "Index(['YEAR', '2 W', '3 W', '4 W', 'BUS', 'TOTAL'], dtype='object')"
            ]
          },
          "execution_count": 13,
          "metadata": {},
          "output_type": "execute_result"
        }
      ],
      "source": [
        "df1.columns"
      ]
    },
    {
      "cell_type": "code",
      "execution_count": 14,
      "metadata": {
        "id": "fRYYmO1hi18k"
      },
      "outputs": [],
      "source": [
        "data = pd.DataFrame(\n",
        "    {'vichle_type':['2 W','3 W','4 W','BUS'] , 'total_sales' : [np.sum(df1[\"2 W\"]),np.sum(df1[\"3 W\"]),np.sum(df1[\"4 W\"]),np.sum(df1[\"BUS\"])]}\n",
        "\n",
        ")\n"
      ]
    },
    {
      "cell_type": "code",
      "execution_count": 15,
      "metadata": {
        "colab": {
          "base_uri": "https://localhost:8080/",
          "height": 175
        },
        "id": "ErMUkrEglLaD",
        "outputId": "2830e3ec-44c1-4293-e6fb-92ff86975aa2"
      },
      "outputs": [
        {
          "data": {
            "text/html": [
              "<div>\n",
              "<style scoped>\n",
              "    .dataframe tbody tr th:only-of-type {\n",
              "        vertical-align: middle;\n",
              "    }\n",
              "\n",
              "    .dataframe tbody tr th {\n",
              "        vertical-align: top;\n",
              "    }\n",
              "\n",
              "    .dataframe thead th {\n",
              "        text-align: right;\n",
              "    }\n",
              "</style>\n",
              "<table border=\"1\" class=\"dataframe\">\n",
              "  <thead>\n",
              "    <tr style=\"text-align: right;\">\n",
              "      <th></th>\n",
              "      <th>vichle_type</th>\n",
              "      <th>total_sales</th>\n",
              "    </tr>\n",
              "  </thead>\n",
              "  <tbody>\n",
              "    <tr>\n",
              "      <th>0</th>\n",
              "      <td>2 W</td>\n",
              "      <td>1253466</td>\n",
              "    </tr>\n",
              "    <tr>\n",
              "      <th>1</th>\n",
              "      <td>3 W</td>\n",
              "      <td>1099000</td>\n",
              "    </tr>\n",
              "    <tr>\n",
              "      <th>2</th>\n",
              "      <td>4 W</td>\n",
              "      <td>94170</td>\n",
              "    </tr>\n",
              "    <tr>\n",
              "      <th>3</th>\n",
              "      <td>BUS</td>\n",
              "      <td>6091</td>\n",
              "    </tr>\n",
              "  </tbody>\n",
              "</table>\n",
              "</div>"
            ],
            "text/plain": [
              "  vichle_type  total_sales\n",
              "0         2 W      1253466\n",
              "1         3 W      1099000\n",
              "2         4 W        94170\n",
              "3         BUS         6091"
            ]
          },
          "execution_count": 15,
          "metadata": {},
          "output_type": "execute_result"
        }
      ],
      "source": [
        "data"
      ]
    },
    {
      "cell_type": "code",
      "execution_count": 16,
      "metadata": {
        "colab": {
          "base_uri": "https://localhost:8080/",
          "height": 579
        },
        "id": "A8d-AZiuljUM",
        "outputId": "6e6d91c3-a43e-485f-e828-4a11045ac057"
      },
      "outputs": [
        {
          "name": "stderr",
          "output_type": "stream",
          "text": [
            "C:\\Users\\HP\\AppData\\Local\\Temp\\ipykernel_22848\\352031684.py:2: FutureWarning: \n",
            "\n",
            "Passing `palette` without assigning `hue` is deprecated and will be removed in v0.14.0. Assign the `x` variable to `hue` and set `legend=False` for the same effect.\n",
            "\n",
            "  sns.barplot(x='vichle_type', y='total_sales', data=data, palette='viridis')\n"
          ]
        },
        {
          "data": {
            "image/png": "[encoded data removed]",
            "text/plain": [
              "<Figure size 800x500 with 1 Axes>"
            ]
          },
          "metadata": {},
          "output_type": "display_data"
        }
      ],
      "source": [
        "plt.figure(figsize=(8, 5))\n",
        "sns.barplot(x='vichle_type', y='total_sales', data=data, palette='viridis')\n",
        "plt.title('Total Sales by Vehicle Type')\n",
        "plt.show()"
      ]
    },
    {
      "cell_type": "code",
      "execution_count": 17,
      "metadata": {
        "colab": {
          "base_uri": "https://localhost:8080/",
          "height": 521
        },
        "id": "PeT-4J6Jop83",
        "outputId": "2082c0d1-4ca5-43e7-9c14-27062cfbf0e0"
      },
      "outputs": [
        {
          "data": {
            "image/png": "[encoded data removed]",
            "text/plain": [
              "<Figure size 600x600 with 1 Axes>"
            ]
          },
          "metadata": {},
          "output_type": "display_data"
        }
      ],
      "source": [
        "plt.figure(figsize=(6, 6))\n",
        "plt.pie(data['total_sales'], labels=data['vichle_type'], startangle=140)\n",
        "plt.title('Market Share by Vehicle Type')\n",
        "plt.axis('equal')\n",
        "plt.show()"
      ]
    },
    {
      "cell_type": "code",
      "execution_count": 18,
      "metadata": {
        "colab": {
          "base_uri": "https://localhost:8080/",
          "height": 504
        },
        "id": "wYb7Vlyna8tE",
        "outputId": "d8f09dda-fad9-4bd4-ec31-12dbd4fdce77"
      },
      "outputs": [
        {
          "data": {
            "text/plain": [
              "Text(0.5, 0, 'Vehicle Type')"
            ]
          },
          "execution_count": 18,
          "metadata": {},
          "output_type": "execute_result"
        },
        {
          "data": {
            "image/png": "[encoded data removed]",
            "text/plain": [
              "<Figure size 500x500 with 1 Axes>"
            ]
          },
          "metadata": {},
          "output_type": "display_data"
        }
      ],
      "source": [
        "plt.figure(figsize=(5,5))\n",
        "sns.boxplot(data=data,x=data['vichle_type'],y=data['total_sales'])\n",
        "plt.title('EV Sales by Vehicle Type')\n",
        "plt.xlabel('Vehicle Type')"
      ]
    },
    {
      "cell_type": "code",
      "execution_count": 19,
      "metadata": {
        "colab": {
          "base_uri": "https://localhost:8080/"
        },
        "id": "Y8Eu6WHEpAOa",
        "outputId": "e87c2d26-6783-4ba0-f83b-fdd5060b3b46"
      },
      "outputs": [
        {
          "name": "stdout",
          "output_type": "stream",
          "text": [
            "\n",
            "Best-selling vehicle type: 2 W with 1253466 sales.\n"
          ]
        }
      ],
      "source": [
        "best_seller = data.loc[data['total_sales'].idxmax()]\n",
        "print(f\"\\nBest-selling vehicle type: {best_seller['vichle_type']} with {best_seller['total_sales']} sales.\")"
      ]
    },
    {
      "cell_type": "code",
      "execution_count": 21,
      "metadata": {
        "colab": {
          "base_uri": "https://localhost:8080/",
          "height": 356
        },
        "id": "vebbuvF4a8pX",
        "outputId": "7f8ce2c8-1119-4cc6-d7c2-60688bf62126"
      },
      "outputs": [
        {
          "ename": "KeyError",
          "evalue": "('2 W', '3 W', '4 W', 'BUS')",
          "output_type": "error",
          "traceback": [
            "\u001b[1;31m---------------------------------------------------------------------------\u001b[0m",
            "\u001b[1;31mKeyError\u001b[0m                                  Traceback (most recent call last)",
            "File \u001b[1;32m~\\AppData\\Local\\Packages\\PythonSoftwareFoundation.Python.3.11_qbz5n2kfra8p0\\LocalCache\\local-packages\\Python311\\site-packages\\pandas\\core\\indexes\\base.py:3805\u001b[0m, in \u001b[0;36mIndex.get_loc\u001b[1;34m(self, key)\u001b[0m\n\u001b[0;32m   3804\u001b[0m \u001b[38;5;28;01mtry\u001b[39;00m:\n\u001b[1;32m-> 3805\u001b[0m     \u001b[38;5;28;01mreturn\u001b[39;00m \u001b[38;5;28;43mself\u001b[39;49m\u001b[38;5;241;43m.\u001b[39;49m\u001b[43m_engine\u001b[49m\u001b[38;5;241;43m.\u001b[39;49m\u001b[43mget_loc\u001b[49m\u001b[43m(\u001b[49m\u001b[43mcasted_key\u001b[49m\u001b[43m)\u001b[49m\n\u001b[0;32m   3806\u001b[0m \u001b[38;5;28;01mexcept\u001b[39;00m \u001b[38;5;167;01mKeyError\u001b[39;00m \u001b[38;5;28;01mas\u001b[39;00m err:\n",
            "File \u001b[1;32mindex.pyx:167\u001b[0m, in \u001b[0;36mpandas._libs.index.IndexEngine.get_loc\u001b[1;34m()\u001b[0m\n",
            "File \u001b[1;32mindex.pyx:196\u001b[0m, in \u001b[0;36mpandas._libs.index.IndexEngine.get_loc\u001b[1;34m()\u001b[0m\n",
            "File \u001b[1;32mpandas\\\\_libs\\\\hashtable_class_helper.pxi:7081\u001b[0m, in \u001b[0;36mpandas._libs.hashtable.PyObjectHashTable.get_item\u001b[1;34m()\u001b[0m\n",
            "File \u001b[1;32mpandas\\\\_libs\\\\hashtable_class_helper.pxi:7089\u001b[0m, in \u001b[0;36mpandas._libs.hashtable.PyObjectHashTable.get_item\u001b[1;34m()\u001b[0m\n",
            "\u001b[1;31mKeyError\u001b[0m: ('2 W', '3 W', '4 W', 'BUS')",
            "\nThe above exception was the direct cause of the following exception:\n",
            "\u001b[1;31mKeyError\u001b[0m                                  Traceback (most recent call last)",
            "Cell \u001b[1;32mIn[21], line 1\u001b[0m\n\u001b[1;32m----> 1\u001b[0m sns\u001b[38;5;241m.\u001b[39mhistplot(df1,x\u001b[38;5;241m=\u001b[39m\u001b[43mdf1\u001b[49m\u001b[43m[\u001b[49m\u001b[38;5;124;43m'\u001b[39;49m\u001b[38;5;124;43m2 W\u001b[39;49m\u001b[38;5;124;43m'\u001b[39;49m\u001b[43m,\u001b[49m\u001b[43m \u001b[49m\u001b[38;5;124;43m'\u001b[39;49m\u001b[38;5;124;43m3 W\u001b[39;49m\u001b[38;5;124;43m'\u001b[39;49m\u001b[43m,\u001b[49m\u001b[43m \u001b[49m\u001b[38;5;124;43m'\u001b[39;49m\u001b[38;5;124;43m4 W\u001b[39;49m\u001b[38;5;124;43m'\u001b[39;49m\u001b[43m,\u001b[49m\u001b[43m \u001b[49m\u001b[38;5;124;43m'\u001b[39;49m\u001b[38;5;124;43mBUS\u001b[39;49m\u001b[38;5;124;43m'\u001b[39;49m\u001b[43m]\u001b[49m,y\u001b[38;5;241m=\u001b[39mdf1[\u001b[38;5;124m'\u001b[39m\u001b[38;5;124mYEAR\u001b[39m\u001b[38;5;124m'\u001b[39m])\n\u001b[0;32m      2\u001b[0m plt\u001b[38;5;241m.\u001b[39mtitle(\u001b[38;5;124m'\u001b[39m\u001b[38;5;124mAge Distribution\u001b[39m\u001b[38;5;124m'\u001b[39m)\n\u001b[0;32m      3\u001b[0m plt\u001b[38;5;241m.\u001b[39mshow()\n",
            "File \u001b[1;32m~\\AppData\\Local\\Packages\\PythonSoftwareFoundation.Python.3.11_qbz5n2kfra8p0\\LocalCache\\local-packages\\Python311\\site-packages\\pandas\\core\\frame.py:4090\u001b[0m, in \u001b[0;36mDataFrame.__getitem__\u001b[1;34m(self, key)\u001b[0m\n\u001b[0;32m   4088\u001b[0m \u001b[38;5;28;01mif\u001b[39;00m \u001b[38;5;28mself\u001b[39m\u001b[38;5;241m.\u001b[39mcolumns\u001b[38;5;241m.\u001b[39mnlevels \u001b[38;5;241m>\u001b[39m \u001b[38;5;241m1\u001b[39m:\n\u001b[0;32m   4089\u001b[0m     \u001b[38;5;28;01mreturn\u001b[39;00m \u001b[38;5;28mself\u001b[39m\u001b[38;5;241m.\u001b[39m_getitem_multilevel(key)\n\u001b[1;32m-> 4090\u001b[0m indexer \u001b[38;5;241m=\u001b[39m \u001b[38;5;28;43mself\u001b[39;49m\u001b[38;5;241;43m.\u001b[39;49m\u001b[43mcolumns\u001b[49m\u001b[38;5;241;43m.\u001b[39;49m\u001b[43mget_loc\u001b[49m\u001b[43m(\u001b[49m\u001b[43mkey\u001b[49m\u001b[43m)\u001b[49m\n\u001b[0;32m   4091\u001b[0m \u001b[38;5;28;01mif\u001b[39;00m is_integer(indexer):\n\u001b[0;32m   4092\u001b[0m     indexer \u001b[38;5;241m=\u001b[39m [indexer]\n",
            "File \u001b[1;32m~\\AppData\\Local\\Packages\\PythonSoftwareFoundation.Python.3.11_qbz5n2kfra8p0\\LocalCache\\local-packages\\Python311\\site-packages\\pandas\\core\\indexes\\base.py:3812\u001b[0m, in \u001b[0;36mIndex.get_loc\u001b[1;34m(self, key)\u001b[0m\n\u001b[0;32m   3807\u001b[0m     \u001b[38;5;28;01mif\u001b[39;00m \u001b[38;5;28misinstance\u001b[39m(casted_key, \u001b[38;5;28mslice\u001b[39m) \u001b[38;5;129;01mor\u001b[39;00m (\n\u001b[0;32m   3808\u001b[0m         \u001b[38;5;28misinstance\u001b[39m(casted_key, abc\u001b[38;5;241m.\u001b[39mIterable)\n\u001b[0;32m   3809\u001b[0m         \u001b[38;5;129;01mand\u001b[39;00m \u001b[38;5;28many\u001b[39m(\u001b[38;5;28misinstance\u001b[39m(x, \u001b[38;5;28mslice\u001b[39m) \u001b[38;5;28;01mfor\u001b[39;00m x \u001b[38;5;129;01min\u001b[39;00m casted_key)\n\u001b[0;32m   3810\u001b[0m     ):\n\u001b[0;32m   3811\u001b[0m         \u001b[38;5;28;01mraise\u001b[39;00m InvalidIndexError(key)\n\u001b[1;32m-> 3812\u001b[0m     \u001b[38;5;28;01mraise\u001b[39;00m \u001b[38;5;167;01mKeyError\u001b[39;00m(key) \u001b[38;5;28;01mfrom\u001b[39;00m \u001b[38;5;21;01merr\u001b[39;00m\n\u001b[0;32m   3813\u001b[0m \u001b[38;5;28;01mexcept\u001b[39;00m \u001b[38;5;167;01mTypeError\u001b[39;00m:\n\u001b[0;32m   3814\u001b[0m     \u001b[38;5;66;03m# If we have a listlike key, _check_indexing_error will raise\u001b[39;00m\n\u001b[0;32m   3815\u001b[0m     \u001b[38;5;66;03m#  InvalidIndexError. Otherwise we fall through and re-raise\u001b[39;00m\n\u001b[0;32m   3816\u001b[0m     \u001b[38;5;66;03m#  the TypeError.\u001b[39;00m\n\u001b[0;32m   3817\u001b[0m     \u001b[38;5;28mself\u001b[39m\u001b[38;5;241m.\u001b[39m_check_indexing_error(key)\n",
            "\u001b[1;31mKeyError\u001b[0m: ('2 W', '3 W', '4 W', 'BUS')"
          ]
        }
      ],
      "source": [
        "sns.histplot(df1,x=df1['2 W', '3 W', '4 W', 'BUS'],y=df1['YEAR'])\n",
        "plt.title('Age Distribution')\n",
        "plt.show()"
      ]
    },
    {
      "cell_type": "code",
      "execution_count": null,
      "metadata": {
        "id": "YieWAkbsa8jV"
      },
      "outputs": [],
      "source": []
    },
    {
      "cell_type": "code",
      "execution_count": null,
      "metadata": {
        "id": "Ck3mF5G4a8gm"
      },
      "outputs": [],
      "source": []
    },
    {
      "cell_type": "code",
      "execution_count": null,
      "metadata": {
        "id": "j-W9P5Goa8d1"
      },
      "outputs": [],
      "source": []
    },
    {
      "cell_type": "code",
      "execution_count": null,
      "metadata": {
        "id": "G9b6PHEra8bB"
      },
      "outputs": [],
      "source": []
    }
  ],
  "metadata": {
    "colab": {
      "provenance": []
    },
    "kernelspec": {
      "display_name": "Python 3",
      "name": "python3"
    },
    "language_info": {
      "codemirror_mode": {
        "name": "ipython",
        "version": 3
      },
      "file_extension": ".py",
      "mimetype": "text/x-python",
      "name": "python",
      "nbconvert_exporter": "python",
      "pygments_lexer": "ipython3",
      "version": "3.11.9"
    }
  },
  "nbformat": 4,
  "nbformat_minor": 0
}
